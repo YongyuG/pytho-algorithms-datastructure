{
 "cells": [
  {
   "cell_type": "code",
   "execution_count": 16,
   "metadata": {},
   "outputs": [
    {
     "name": "stdout",
     "output_type": "stream",
     "text": [
      "[False, False, False, False, False]\n",
      "[[ 0.  0.  0.  0.  0.]\n",
      " [ 0.  0.  0.  0.  0.]\n",
      " [ 0.  0.  0.  0.  0.]\n",
      " [ 0.  0.  0.  0.  0.]\n",
      " [ 0.  0.  0.  0.  0.]]\n",
      "[[0, 0, 0, 0, 0, 0, 0, 0, 0, 0, 0, 0, 0, 0, 0, 0, 0, 0, 0, 0, 0, 0, 0, 0, 0]]\n",
      "6500.0\n",
      "[False, False, False, False, False, 4, 2, 1]\n"
     ]
    }
   ],
   "source": [
    "#这个主要记录是dynamic programming, 动态规划的问题\n",
    "\n",
    "\n",
    "#动态规划　背包问题\n",
    "# 这里使用的是　吉他，音响，电脑，手机\n",
    "#其中　w吉他＝１，w音响=4，w电脑＝３，w手机＝１\n",
    "#　　　p吉他＝1500, p音响＝3000, p电脑＝2000,p手机＝2000\n",
    "import numpy as np\n",
    "w=[0,1,4,3,1]  #n个物体的重量，w[0]没有任何意义\n",
    "p=[0,1500,3000,2000,2000]#n个物体的价值，p[0]没有任何作用和意义\n",
    "\n",
    "n=len(w)-1#n的个数\n",
    "m=4#背包的载重量\n",
    "\n",
    "#装入背包的物体，元素为True时,对应物体被装入x[0],无任何作用\n",
    "x=[False for raw in range(n+1)]\n",
    "print(x)\n",
    "v=0\n",
    "\n",
    "#optp[i][j]表示在前i个物体中，能够载入重量为j的背包的物体的最大价值\n",
    "optp=[[0 for col in range(m+1) for raw in range(n+1)]]\n",
    "#optp 做了一个n*m的全零矩阵，n行为物件，m列为背包重量\n",
    "optp_1=np.zeros([m+1,n+1])\n",
    "print(optp_1)\n",
    "print(optp)\n",
    "\n",
    "def knpsack_dynamic(w,p,n,m,x):\n",
    "    #计算optp[i][j]\n",
    "    for i in range(1,n+1):#物品一件件来\n",
    "        for j in range(1,m+1):#j为子载包的重量，寻找能够承载物品的子背包\n",
    "            \n",
    "            if j>=w[j]:#当背包的载重量大于物品的重量时，才考虑放不放进去\n",
    "                \n",
    "                #optp[i-1][j]是上一个单元的值，即上一个物品的价值\n",
    "                #optp[i-1][j-w[i]]为剩余空间的价值\n",
    "                optp_1[i][j]=max(optp_1[i-1][j],optp_1[i-1][j-w[i]]+p[i])\n",
    "            else:\n",
    "                #如果超重，则用上一个单元／行的价值，因为都是最优的\n",
    "                optp_1[i][j]=optp_1[i-1][j]\n",
    "                \n",
    "                \n",
    "    #递推装入背包的物体，寻找跳边的地方，从最后开始逆推\n",
    "    j=m\n",
    "    for i in range(n,0,-1):\n",
    "        if optp_1[i][j]>optp_1[i-1][j]:\n",
    "            x.append(i)\n",
    "            j=j-w[i]\n",
    "    \n",
    "    #返回最大价值，即表格中最后一行最后一列的值\n",
    "    v=optp_1[n][m]\n",
    "    return v\n",
    "\n",
    "print(str(knpsack_dynamic(w,p,n,m,x)))\n",
    "print(x)"
   ]
  },
  {
   "cell_type": "code",
   "execution_count": 29,
   "metadata": {},
   "outputs": [
    {
     "name": "stdout",
     "output_type": "stream",
     "text": [
      "5\n"
     ]
    }
   ],
   "source": []
  }
 ],
 "metadata": {
  "kernelspec": {
   "display_name": "Python 3",
   "language": "python",
   "name": "python3"
  },
  "language_info": {
   "codemirror_mode": {
    "name": "ipython",
    "version": 3
   },
   "file_extension": ".py",
   "mimetype": "text/x-python",
   "name": "python",
   "nbconvert_exporter": "python",
   "pygments_lexer": "ipython3",
   "version": "3.6.2"
  }
 },
 "nbformat": 4,
 "nbformat_minor": 2
}
