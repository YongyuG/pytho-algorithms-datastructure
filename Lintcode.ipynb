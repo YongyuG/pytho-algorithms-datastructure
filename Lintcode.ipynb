{
 "cells": [
  {
   "cell_type": "code",
   "execution_count": 8,
   "metadata": {},
   "outputs": [
    {
     "data": {
      "text/plain": [
       "250292920"
      ]
     },
     "execution_count": 8,
     "metadata": {},
     "output_type": "execute_result"
    }
   ],
   "source": [
    "#题目：设计一个算法，计算出n阶乘中尾部零的个数\n",
    "# 样例\n",
    "#11! = 39916800，因此应该返回 2\n",
    "\n",
    "#算法１，因为０与５有关，每５步数一次，然后当遇到５的幂时如２５，１２５等，再循环＋＋\n",
    "#这个算法会超时，换个算法\n",
    "def trailingZeros(n):\n",
    "        # write your code here, try to do it without arithmetic operators.\n",
    "        i=5\n",
    "        count=0\n",
    "        while i<=n:\n",
    "            count+=1\n",
    "            i+=5\n",
    "            check=25\n",
    "            while i%check==0:\n",
    "                count+=1\n",
    "                check*=5\n",
    "                \n",
    "        return count\n",
    "trailingZeros(1001171717)\n",
    "\n"
   ]
  },
  {
   "cell_type": "code",
   "execution_count": 11,
   "metadata": {},
   "outputs": [
    {
     "data": {
      "text/plain": [
       "0"
      ]
     },
     "execution_count": 11,
     "metadata": {},
     "output_type": "execute_result"
    }
   ],
   "source": [
    "#算法２，因为　如一串数字 1 2 3 4 5 6, 可以产生０的数字有 5 10 15 20..都是５的倍数对于　n=101来说\n",
    "#他有１０１／／５＝２０个，把1,2,3,4,5变成5*k的形式，则５，１０，１５会变成　５×（１，２，３，４，５．。。）内部又满足这个形式，而这些是\n",
    "#25的倍数了如25 50 75...=5*(5,10,15,20)=5*5*(1,2,3,4,5)一直重复，直到nfinal／／5=0为止\n",
    "def zeros(n):\n",
    "    temp=n//5\n",
    "    count=0\n",
    "    while(temp!=0):\n",
    "        count+=temp\n",
    "        temp//=5\n",
    "    return count\n",
    "zeros(1)"
   ]
  },
  {
   "cell_type": "code",
   "execution_count": 18,
   "metadata": {},
   "outputs": [
    {
     "data": {
      "text/plain": [
       "-3"
      ]
     },
     "execution_count": 18,
     "metadata": {},
     "output_type": "execute_result"
    }
   ],
   "source": [
    "#题目　给定一个序列，计算子数组which 可以得到最大和\n",
    "def maxsubarry(nums):\n",
    "    n=len(nums)\n",
    "    maxsum=sum(nums)\n",
    "    tempsum=0\n",
    "    for i in range(n):\n",
    "        tempsum+=nums[i]\n",
    "        if tempsum>maxsum:\n",
    "            maxsum=tempsum\n",
    "        #当和小于０，加上当前数也是小于当前和，所以归０，另外，如果数组一直是正数，那么一直是最大的\n",
    "        if tempsum<0:\n",
    "            tempsum=0\n",
    "        return maxsum\n",
    "maxsubarry([-3,3,-5,2,1,0,-1,-2,4,2,-7])\n",
    "\n"
   ]
  },
  {
   "cell_type": "code",
   "execution_count": 28,
   "metadata": {
    "collapsed": true
   },
   "outputs": [],
   "source": [
    "#题目：给定一组序列[1,1,1,1,1,1,2,2,2,2,3,3,3,3]求出他的主元素，主元素：个数>序列长度／２\n",
    "def majorityNumber(self, nums):\n",
    "        # write your code here\n",
    "        #rep=set(nums)\n",
    "        #x={}\n",
    "        #max=0\n",
    "        #tmp=0\n",
    "        #for i in rep:\n",
    "        #    tmp=nums.count(i)\n",
    "        #    if tmp>len(nums)/2:\n",
    "        #        record=i\n",
    "        #return record\n",
    "        n=len(nums)/2\n",
    "        nums.sort()\n",
    "        i=0;j=0\n",
    "        while i<=len(nums):\n",
    "            j=nums.count(nums[i])\n",
    "            if j>n:\n",
    "                return nums[i]\n",
    "            i+=j"
   ]
  },
  {
   "cell_type": "code",
   "execution_count": 121,
   "metadata": {},
   "outputs": [
    {
     "name": "stdout",
     "output_type": "stream",
     "text": [
      "['like', 'love', 'hate']\n"
     ]
    }
   ],
   "source": [
    "#给一个词典，找出其中所有最长的单词。\n",
    "#在词典\n",
    "\n",
    "####{\n",
    " # \"dog\",\n",
    " # \"google\",\n",
    " # \"facebook\",\n",
    " # \"internationalization\",\n",
    " # \"blabla\"\n",
    "#}#中, 最长的单词集合为 [\"internationalization\"]\n",
    "\n",
    "\n",
    "#在词典\n",
    "#{\n",
    "#  \"like\",\n",
    "#  \"love\",\n",
    "#  \"hate\",\n",
    "#  \"yes\"\n",
    "#}\n",
    "#中，最长的单词集合为 [\"like\", \"love\", \"hate\"]\n",
    "#算法１\n",
    "def long_str(dict):\n",
    "    maxlen = max(len(word) for word in dict)\n",
    "    print(maxlen)\n",
    "    a=[word for word in dict if len(word) == maxlen]\n",
    "    return a\n",
    "#算法２\n",
    "def max_str(dict):\n",
    "    tmp=0\n",
    "    max=0\n",
    "    for i in dict:\n",
    "        tmp=len(i)\n",
    "        if tmp>max:\n",
    "            max=tmp\n",
    "            result=[]\n",
    "            result.append(i)\n",
    "        elif tmp==max:\n",
    "            result.append(i)\n",
    "    print(result)\n",
    "l=[\"dog\",\"google\",\"facebook\",\"internationalization\",\"blabla\"]\n",
    "l2=['like','love','hate','yes']\n",
    "#long_str(l)\n",
    "max_str(l2)"
   ]
  },
  {
   "cell_type": "code",
   "execution_count": 2,
   "metadata": {},
   "outputs": [
    {
     "name": "stdout",
     "output_type": "stream",
     "text": [
      "0123456789101112\n"
     ]
    }
   ],
   "source": [
    "\n",
    "a=[0, 1, 2, 3, 4, 5, 6, 7, 8, 9, 10, 11, 12]\n",
    "n=len(a)-1\n",
    "k=1\n",
    "\n",
    "L = ''.join([str(i) for i in range(n+1)])  \n",
    "print(L)\n",
    "c = L.count(str(k)) "
   ]
  },
  {
   "cell_type": "code",
   "execution_count": 11,
   "metadata": {},
   "outputs": [
    {
     "name": "stdout",
     "output_type": "stream",
     "text": [
      "Quick Sort: \n",
      "[13, 27, 38, 49, 49, 65, 76, 97]\n"
     ]
    }
   ],
   "source": [
    "#快速排序\n",
    "def qs(mylist,start,end):\n",
    "    if start<end:\n",
    "        i,j=start,end\n",
    "        base=mylist[i]\n",
    "        while i<j:\n",
    "            while i<j and mylist[j]>=base:\n",
    "                j=j-1\n",
    "            \n",
    "            mylist[i]=mylist[j]\n",
    "            while i<j and mylist[i]<=base:\n",
    "                i+=1\n",
    "            mylist[j]=mylist[i]\n",
    "            \n",
    "        mylist[i]=base\n",
    "        \n",
    "        qs(mylist,start,i-1)\n",
    "        qs(mylist,j+1,end)\n",
    "    return mylist\n",
    "mylist = [49,38,65,97,76,13,27,49]\n",
    "prinet(\"Quick Sort: \")\n",
    "qs(mylist,0,len(mylist)-1)\n",
    "print(mylist)\n"
   ]
  },
  {
   "cell_type": "code",
   "execution_count": 28,
   "metadata": {
    "scrolled": true
   },
   "outputs": [
    {
     "name": "stdout",
     "output_type": "stream",
     "text": [
      "2\n",
      "3\n",
      "0 0 1\n",
      "0 1 2\n",
      "0 2 3\n",
      "1 0 1\n",
      "1 1 1\n",
      "1 2 3\n"
     ]
    },
    {
     "data": {
      "text/plain": [
       "6"
      ]
     },
     "execution_count": 28,
     "metadata": {},
     "output_type": "execute_result"
    }
   ],
   "source": [
    "#找最小路径和\n",
    "def minpathsum(grid):\n",
    "    m=len(grid)\n",
    "    print(m)\n",
    "    if m==0:\n",
    "        return 0\n",
    "    n=len(grid[0])\n",
    "    print(n)\n",
    "    if n==0:\n",
    "        return 0\n",
    "    for i in range(m):\n",
    "        for j in range(n):\n",
    "            print(i,j,grid[i][j])\n",
    "            if i==0 and j!=0:\n",
    "                grid[i][j]+=grid[i][j-1]\n",
    "            elif j==0 and i!=0:\n",
    "                grid[i][j]+=grid[i-1][j]\n",
    "            elif j!=0 and i!=0:\n",
    "                grid[i][j]+=min(grid[i-1][j],grid[i][j-1])\n",
    "    return grid[m-1][n-1]\n",
    "grid=[[1,2,3],[1,1,3]]\n",
    "minpathsum(grid)"
   ]
  },
  {
   "cell_type": "code",
   "execution_count": 61,
   "metadata": {},
   "outputs": [
    {
     "name": "stdout",
     "output_type": "stream",
     "text": [
      "2 0 6 4 1\n",
      "2 1 5 1 8\n",
      "2 2 7 8 3\n",
      "1 0 3 7 6\n",
      "1 1 4 6 10\n",
      "0 0 2 9 10\n"
     ]
    },
    {
     "data": {
      "text/plain": [
       "11"
      ]
     },
     "execution_count": 61,
     "metadata": {},
     "output_type": "execute_result"
    }
   ],
   "source": [
    "#最小路径和三角形\n",
    "def minitrisum(tri):\n",
    "    res=0\n",
    "    if tri is None or len(tri)==0:\n",
    "        return res\n",
    "    #从后往前遍历\n",
    "    #辅助空间记录当前行个点到底部的最小值\n",
    "    tmp=tri[-1]\n",
    "    for i in range(len(tri)-2,-1,-1):\n",
    "        #print(tri[i],i)\n",
    "        le=len(tri[i])\n",
    "        for j in range(le):\n",
    "            print(i,j,tri[i][j],tri[i+1][j],tri[i+1][j+1])\n",
    "            minx=min(tri[i+1][j],tri[i+1][j+1])\n",
    "            tri[i][j]+=minx\n",
    "    return tri[0][0]\n",
    "minitrisum([\n",
    "     [2],\n",
    "    [3,4],\n",
    "   [6,5,7],\n",
    "  [4,1,8,3]\n",
    "])"
   ]
  }
 ],
 "metadata": {
  "kernelspec": {
   "display_name": "Python 3",
   "language": "python",
   "name": "python3"
  },
  "language_info": {
   "codemirror_mode": {
    "name": "ipython",
    "version": 3
   },
   "file_extension": ".py",
   "mimetype": "text/x-python",
   "name": "python",
   "nbconvert_exporter": "python",
   "pygments_lexer": "ipython3",
   "version": "3.6.2"
  }
 },
 "nbformat": 4,
 "nbformat_minor": 2
}
